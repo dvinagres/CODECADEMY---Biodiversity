{
 "cells": [
  {
   "cell_type": "markdown",
   "metadata": {},
   "source": [
    "# Biodiversity"
   ]
  },
  {
   "cell_type": "code",
   "execution_count": 1,
   "metadata": {},
   "outputs": [],
   "source": [
    "import pandas as pd\n",
    "import numpy as np\n",
    "import matplotlib.pyplot as plt"
   ]
  },
  {
   "cell_type": "code",
   "execution_count": 2,
   "metadata": {},
   "outputs": [],
   "source": [
    "#Reading .csv files\n",
    "spe_df = pd.read_csv('species_info.csv')\n",
    "obs_df = pd.read_csv('observations.csv')"
   ]
  },
  {
   "cell_type": "markdown",
   "metadata": {},
   "source": [
    "# species_info.csv"
   ]
  },
  {
   "cell_type": "code",
   "execution_count": 3,
   "metadata": {},
   "outputs": [
    {
     "name": "stdout",
     "output_type": "stream",
     "text": [
      "There are 214 species in the Mammal category\n",
      "There are 521 species in the Bird category\n",
      "There are 79 species in the Reptile category\n",
      "There are 80 species in the Amphibian category\n",
      "There are 127 species in the Fish category\n",
      "There are 4470 species in the Vascular Plant category\n",
      "There are 333 species in the Nonvascular Plant category\n"
     ]
    }
   ],
   "source": [
    "#Making a function that outputs how many species are in each category\n",
    "def cat_count(cat, data):\n",
    "    subset = data[data.category == cat]\n",
    "    num = len(subset.category)\n",
    "    return 'There are {} species in the {} category'.format(num, cat)\n",
    "\n",
    "cat_count_mammal = cat_count('Mammal', spe_df)\n",
    "cat_count_bird = cat_count('Bird', spe_df)\n",
    "cat_count_reptile = cat_count('Reptile', spe_df)\n",
    "cat_count_amphibian = cat_count('Amphibian', spe_df)\n",
    "cat_count_fish = cat_count('Fish', spe_df)\n",
    "cat_count_vascular = cat_count('Vascular Plant', spe_df)\n",
    "cat_count_nonvascular = cat_count('Nonvascular Plant', spe_df)\n",
    "\n",
    "print(cat_count_mammal)\n",
    "print(cat_count_bird)\n",
    "print(cat_count_reptile)\n",
    "print(cat_count_amphibian)\n",
    "print(cat_count_fish)\n",
    "print(cat_count_vascular)\n",
    "print(cat_count_nonvascular)"
   ]
  },
  {
   "cell_type": "code",
   "execution_count": 4,
   "metadata": {},
   "outputs": [
    {
     "data": {
      "image/png": "[encoded data removed]",
      "text/plain": [
       "<Figure size 504x504 with 1 Axes>"
      ]
     },
     "metadata": {
      "needs_background": "light"
     },
     "output_type": "display_data"
    }
   ],
   "source": [
    "#Plotting bar chart of species in each category\n",
    "cat_data = [214, 521, 79, 80, 127, 4470, 333]\n",
    "cat_data_labels = ['Mammal', 'Bird', 'Reptile', 'Amphibian', 'Fish', 'Vascular Plant', 'Nonvascular Plant']\n",
    "colors = ['pink', 'gold', 'green', 'magenta', 'darkblue', 'orange', 'red']\n",
    "\n",
    "plt.figure(figsize=(7, 7))\n",
    "ax = plt.subplot()\n",
    "plt.bar(cat_data_labels, cat_data, color=colors)\n",
    "ax.set_xticks(cat_data_labels)\n",
    "ax.set_xticklabels(cat_data_labels, rotation=20, fontsize=8)\n",
    "ax.set_yticks([100, 1000, 2000, 3000, 4000])\n",
    "plt.xlabel('Category')\n",
    "plt.ylabel('Number of species')\n",
    "plt.title('Number of species per category')\n",
    "plt.show()"
   ]
  },
  {
   "cell_type": "markdown",
   "metadata": {},
   "source": [
    "The Vascular Plant category has the biggest amount of species (4470). In the animal categories, the Bird category has the biggest amount of species (521) "
   ]
  },
  {
   "cell_type": "code",
   "execution_count": 5,
   "metadata": {},
   "outputs": [
    {
     "name": "stdout",
     "output_type": "stream",
     "text": [
      "Mammal            \n",
      "Species of Concern: 28            \n",
      "Endangered species: 7            \n",
      "Threatened species: 2            \n",
      "In Recovery species: 1\n",
      "\n",
      "Bird            \n",
      "Species of Concern: 72            \n",
      "Endangered species: 4            \n",
      "Threatened species: 0            \n",
      "In Recovery species: 3\n",
      "\n",
      "Reptile            \n",
      "Species of Concern: 5            \n",
      "Endangered species: 0            \n",
      "Threatened species: 0            \n",
      "In Recovery species: 0\n",
      "\n",
      "Amphibian            \n",
      "Species of Concern: 4            \n",
      "Endangered species: 1            \n",
      "Threatened species: 2            \n",
      "In Recovery species: 0\n",
      "\n",
      "Fish            \n",
      "Species of Concern: 4            \n",
      "Endangered species: 3            \n",
      "Threatened species: 4            \n",
      "In Recovery species: 0\n",
      "\n",
      "Vascular Plant            \n",
      "Species of Concern: 43            \n",
      "Endangered species: 1            \n",
      "Threatened species: 2            \n",
      "In Recovery species: 0\n",
      "\n",
      "Nonvascular Plant            \n",
      "Species of Concern: 5            \n",
      "Endangered species: 0            \n",
      "Threatened species: 0            \n",
      "In Recovery species: 0\n",
      "\n"
     ]
    }
   ],
   "source": [
    "#Making a function that outputs the different conservation status found in each category\n",
    "def cons_status(cat, data):\n",
    "    subset = data[data.category == cat]\n",
    "    soc_subset = subset[subset.conservation_status == 'Species of Concern']\n",
    "    end_subset = subset[subset.conservation_status == 'Endangered']\n",
    "    thr_subset = subset[subset.conservation_status == 'Threatened']\n",
    "    rec_subset = subset[subset.conservation_status == 'In Recovery']\n",
    "    soc_num = len(soc_subset)\n",
    "    end_num = len(end_subset)\n",
    "    thr_num = len(thr_subset)\n",
    "    rec_num = len(rec_subset)\n",
    "    return '{}\\\n",
    "            \\nSpecies of Concern: {}\\\n",
    "            \\nEndangered species: {}\\\n",
    "            \\nThreatened species: {}\\\n",
    "            \\nIn Recovery species: {}\\n'.format(cat, soc_num, end_num, thr_num, rec_num)\n",
    "\n",
    "cons_status_mammal = cons_status('Mammal', spe_df)\n",
    "cons_status_bird = cons_status('Bird', spe_df)\n",
    "cons_status_reptile = cons_status('Reptile', spe_df)\n",
    "cons_status_amphibian = cons_status('Amphibian', spe_df)\n",
    "cons_status_fish = cons_status('Fish', spe_df)\n",
    "cons_status_vascular = cons_status('Vascular Plant', spe_df)\n",
    "cons_status_nonvascular = cons_status('Nonvascular Plant', spe_df)\n",
    "\n",
    "print(cons_status_mammal)\n",
    "print(cons_status_bird)\n",
    "print(cons_status_reptile)\n",
    "print(cons_status_amphibian)\n",
    "print(cons_status_fish)\n",
    "print(cons_status_vascular)\n",
    "print(cons_status_nonvascular) "
   ]
  },
  {
   "cell_type": "code",
   "execution_count": 6,
   "metadata": {},
   "outputs": [
    {
     "name": "stdout",
     "output_type": "stream",
     "text": [
      "The 17.29% of Mammals fall into \"Species of Concern\", \"Endangered\" or \"Threatened\" status\n",
      "The 14.59% of Birds fall into \"Species of concern\", \"Endangered\" or \"Threatened\" status\n",
      "The 6.33% of Reptiles fall into \"Species of concern\", \"Endangered\" or \"Threatened\" status\n",
      "The 7.5% of Amphibians fall into \"Species of concern\", \"Endangered\" or \"Threatened\" status\n",
      "The 8.66% of Fishes into \"Species of concern\", \"Endangered\" or \"Threatened\" status\n",
      "The 1.03% of Vascular Plants fall into \"Species of concern\", \"Endangered\" or \"Threatened\" status\n",
      "The 1.5% of Nonvascular Plants fall into \"Species of concern\", \"Endangered\" or \"Threatened\" status\n"
     ]
    }
   ],
   "source": [
    "#Calculating 'Species of Concern' + 'Endangered' + 'Threatened' percentages for each category\n",
    "print('The ' + str(round(37*100/214, 2)) + '% of Mammals fall into \"Species of Concern\", \"Endangered\" or \"Threatened\" status')\n",
    "print('The ' + str(round(76*100/521, 2)) + '% of Birds fall into \"Species of concern\", \"Endangered\" or \"Threatened\" status')\n",
    "print('The ' + str(round(5*100/79, 2)) + '% of Reptiles fall into \"Species of concern\", \"Endangered\" or \"Threatened\" status')\n",
    "print('The ' + str(round(6*100/80, 2)) + '% of Amphibians fall into \"Species of concern\", \"Endangered\" or \"Threatened\" status')\n",
    "print('The ' + str(round(11*100/127, 2)) + '% of Fishes into \"Species of concern\", \"Endangered\" or \"Threatened\" status')\n",
    "print('The ' + str(round(46*100/4470, 2)) + '% of Vascular Plants fall into \"Species of concern\", \"Endangered\" or \"Threatened\" status')\n",
    "print('The ' + str(round(5*100/333, 2)) + '% of Nonvascular Plants fall into \"Species of concern\", \"Endangered\" or \"Threatened\" status')"
   ]
  },
  {
   "cell_type": "markdown",
   "metadata": {},
   "source": [
    "Mammal and Bird categories have the highest % of species that fall into the 'caution zone' ('Species of Concern', 'Endangered' and 'Threatened' conservation status)"
   ]
  },
  {
   "cell_type": "code",
   "execution_count": 7,
   "metadata": {},
   "outputs": [
    {
     "name": "stdout",
     "output_type": "stream",
     "text": [
      "Threatened Mammal\n",
      "Scientific Name: Myotis septentrionalis\n",
      "Common Name: Northern Long-Eared Bat, Northern Myotis\n",
      "Scientific Name: Ursus arctos horribilis\n",
      "Common Name: Grizzly Bear\n",
      "\n",
      "\n",
      "Threatened Amphibian\n",
      "Scientific Name: Anaxyrus canorus\n",
      "Common Name: Yosemite Toad\n",
      "Scientific Name: Rana draytonii\n",
      "Common Name: California Red-Legged Frog\n",
      "\n",
      "\n",
      "Threatened Fish\n",
      "Scientific Name: Erimonax monachus\n",
      "Common Name: Spotfin Chub\n",
      "Scientific Name: Noturus flavipinnis\n",
      "Common Name: Yellowfin Madtom\n",
      "Scientific Name: Oncorhynchus mykiss\n",
      "Common Name: Rainbow Trout\n",
      "Scientific Name: Oncorhynchus clarkii henshawi\n",
      "Common Name: Lahontan Cutthroat Trout\n",
      "\n",
      "\n",
      "Threatened Vascular Plant\n",
      "Scientific Name: Isotria medeoloides\n",
      "Common Name: Small Whorled Pogonia\n",
      "Scientific Name: Spiraea virginiana\n",
      "Common Name: Virginia Spiraea\n",
      "\n",
      "\n"
     ]
    }
   ],
   "source": [
    "#Making a function that outputs the scientific and common names of the 'Threatened' species\n",
    "def names(cat, data):\n",
    "    subset = data[(data.category == cat) & (data.conservation_status == 'Threatened')]\n",
    "    print('Threatened {}'.format(cat))\n",
    "    for value in subset.values:\n",
    "        print('{}: {}\\n{}: {}'.format('Scientific Name', value[1], 'Common Name', value[2]))\n",
    "    print('\\n')\n",
    "\n",
    "names_mammal = names('Mammal', spe_df)\n",
    "names_amphibian = names('Amphibian', spe_df)\n",
    "names_fish = names('Fish', spe_df)\n",
    "names_vascular = names('Vascular Plant', spe_df)"
   ]
  },
  {
   "cell_type": "markdown",
   "metadata": {},
   "source": [
    "These are the species that are currently in risk of extinction in each category"
   ]
  },
  {
   "cell_type": "markdown",
   "metadata": {},
   "source": [
    "# observations.csv"
   ]
  },
  {
   "cell_type": "code",
   "execution_count": 8,
   "metadata": {},
   "outputs": [
    {
     "name": "stdout",
     "output_type": "stream",
     "text": [
      "Great Smoky Mountains National Park: 431820 observations\n",
      "Yosemite National Park: 863332 observations\n",
      "Bryce National Park: 576025 observations\n",
      "Yellowstone National Park: 1443562 observations\n"
     ]
    }
   ],
   "source": [
    "#Making a function that outputs number of observations in each park\n",
    "def obs(park, data):\n",
    "    subset = data[data.park_name == park]\n",
    "    num = np.sum(subset.observations)\n",
    "    return '{}: {} observations'.format(park, num)\n",
    "\n",
    "obs_smokey = obs('Great Smoky Mountains National Park', obs_df)\n",
    "obs_yosemite = obs('Yosemite National Park', obs_df)\n",
    "obs_bryce = obs('Bryce National Park', obs_df)\n",
    "obs_yellowstone = obs('Yellowstone National Park', obs_df)\n",
    "\n",
    "print(obs_smokey)\n",
    "print(obs_yosemite)\n",
    "print(obs_bryce)\n",
    "print(obs_yellowstone)"
   ]
  },
  {
   "cell_type": "code",
   "execution_count": 9,
   "metadata": {},
   "outputs": [
    {
     "data": {
      "image/png": "[encoded data removed]",
      "text/plain": [
       "<Figure size 504x504 with 1 Axes>"
      ]
     },
     "metadata": {
      "needs_background": "light"
     },
     "output_type": "display_data"
    }
   ],
   "source": [
    "#Plotting bar chart of observations in each park\n",
    "park_data = [431820, 863332, 576025, 1443562]\n",
    "park_data_labels = ['Great Smoky Mountains National Park',\n",
    "                   'Yosemite National Park',\n",
    "                   'Bryce National Park',\n",
    "                   'Yellowstone National Park']\n",
    "colors = ['grey', 'red', 'cyan', 'gold']\n",
    "\n",
    "plt.figure(figsize=(7, 7))\n",
    "ax = plt.subplot()\n",
    "plt.bar(park_data_labels, park_data, color=colors)\n",
    "ax.set_xticks(park_data_labels)\n",
    "ax.set_xticklabels(park_data_labels, rotation=20, fontsize=8)\n",
    "plt.xlabel('Park')\n",
    "plt.ylabel('Number of observations')\n",
    "plt.title('Number of observations per category')\n",
    "plt.show()"
   ]
  },
  {
   "cell_type": "markdown",
   "metadata": {},
   "source": [
    "The Yellowstone National Park has the highest number of observations"
   ]
  },
  {
   "cell_type": "code",
   "execution_count": 10,
   "metadata": {},
   "outputs": [
    {
     "name": "stdout",
     "output_type": "stream",
     "text": [
      "Great Smoky Mountains National Park\n",
      "1 - Sonchus asper ssp. asper. Observations: 147\n",
      "2 - Lespedeza violacea. Observations: 146\n",
      "3 - Botrychium dissectum. Observations: 144\n",
      "\n",
      "\n",
      "Yosemite National Park\n",
      "1 - Ivesia shockleyi var. shockleyi. Observations: 223\n",
      "2 - Lipocarpha micrantha. Observations: 222\n",
      "3 - Artemisia arbuscula ssp. arbuscula. Observations: 219\n",
      "\n",
      "\n",
      "Bryce National Park\n",
      "1 - Valerianella radiata. Observations: 176\n",
      "2 - Melilotus indica. Observations: 173\n",
      "3 - Ericameria bloomeri. Observations: 172\n",
      "\n",
      "\n",
      "Yellowstone National Park\n",
      "1 - Lycopodium tristachyum. Observations: 321\n",
      "2 - Castilleja miniata. Observations: 317\n",
      "3 - Cryptantha fendleri. Observations: 316\n",
      "\n",
      "\n"
     ]
    }
   ],
   "source": [
    "#Making a function that outputs the three most observed species in each park\n",
    "def three_obs(park, data):\n",
    "    subset = data[data.park_name == park].sort_values('observations', ascending=False)\n",
    "    three_most = subset[0:3]\n",
    "    print(park)\n",
    "    n = 1\n",
    "    for species in three_most.values:\n",
    "        print(str(n) + ' - ' + species[0] + '. ' + 'Observations: ' + str(species[2]))\n",
    "        n += 1\n",
    "    print('\\n')  \n",
    "\n",
    "three_obs_smokey = three_obs('Great Smoky Mountains National Park', obs_df)\n",
    "three_obs_yosemite = three_obs('Yosemite National Park', obs_df)\n",
    "three_obs_bryce = three_obs('Bryce National Park', obs_df)\n",
    "three_obs_yellowstone = three_obs('Yellowstone National Park', obs_df)  "
   ]
  },
  {
   "cell_type": "markdown",
   "metadata": {},
   "source": [
    "# Conclusion"
   ]
  },
  {
   "cell_type": "markdown",
   "metadata": {},
   "source": [
    "# species_info.csv"
   ]
  },
  {
   "cell_type": "markdown",
   "metadata": {},
   "source": [
    "- Among all categories, Mammals and Birds are the ones with the highest amount of species in the 'caution zone' -'Species of Concern', 'Endangered' or 'Threatened'- (17.29% and 14.59% respectively). Although the Bird category doesn't have any species under the 'Threatened' conservation status, there is a considerable number of species (72) that fall into 'Species of Concern' and they should have special protection as soon as posible.\n",
    "\n",
    "- Fish category has the highest amount of species in the 'Threatened' conservation status (Spotfin Chub, Yellowfin Madtom, Rainbow Trout and Lahontan Cutthroat Trout). They are in risk of extinction."
   ]
  },
  {
   "cell_type": "markdown",
   "metadata": {},
   "source": [
    "# observations.csv"
   ]
  },
  {
   "cell_type": "markdown",
   "metadata": {},
   "source": [
    "- The Yellowstone National Park has the highest number of observations\n",
    "\n",
    "- These are the most observed species for each park (all of them are plants):\n",
    "    - Great Smoky Mountains National Park: 'Sonchus asper ssp. asper' (147 observations)\n",
    "    - Yosemite National Park: 'Ivesia shockleyi var. shockleyi' (223 observations) \n",
    "    - Bryce National Park: 'Valerianella radiata' (176 observations)\n",
    "    - Yellowstone National Park: 'Lycopodium tristachyum' (321 observations)"
   ]
  }
 ],
 "metadata": {
  "kernelspec": {
   "display_name": "Python 3 (ipykernel)",
   "language": "python",
   "name": "python3"
  },
  "language_info": {
   "codemirror_mode": {
    "name": "ipython",
    "version": 3
   },
   "file_extension": ".py",
   "mimetype": "text/x-python",
   "name": "python",
   "nbconvert_exporter": "python",
   "pygments_lexer": "ipython3",
   "version": "3.9.7"
  }
 },
 "nbformat": 4,
 "nbformat_minor": 4
}
